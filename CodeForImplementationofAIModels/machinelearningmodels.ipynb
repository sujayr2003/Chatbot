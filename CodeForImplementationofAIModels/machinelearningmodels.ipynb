{
 "cells": [
  {
   "cell_type": "code",
   "execution_count": 1,
   "metadata": {},
   "outputs": [],
   "source": [
    "import pandas as pd\n",
    "from sklearn.model_selection import train_test_split\n",
    "from sklearn.feature_extraction.text import CountVectorizer\n",
    "from sklearn.naive_bayes import MultinomialNB\n",
    "from sklearn.linear_model import LogisticRegression\n",
    "from sklearn.tree import DecisionTreeClassifier\n",
    "from sklearn.ensemble import RandomForestClassifier\n",
    "from sklearn.neighbors import KNeighborsClassifier\n",
    "from sklearn.svm import SVC\n",
    "from sklearn.metrics import accuracy_score,f1_score,recall_score,precision_score"
   ]
  },
  {
   "cell_type": "code",
   "execution_count": 2,
   "metadata": {},
   "outputs": [],
   "source": [
    "data=pd.read_csv(r'C:\\Users\\sujay\\Desktop\\Chatbot\\CSVFiles\\sentiment.csv')"
   ]
  },
  {
   "cell_type": "code",
   "execution_count": 3,
   "metadata": {},
   "outputs": [
    {
     "data": {
      "text/html": [
       "<div>\n",
       "<style scoped>\n",
       "    .dataframe tbody tr th:only-of-type {\n",
       "        vertical-align: middle;\n",
       "    }\n",
       "\n",
       "    .dataframe tbody tr th {\n",
       "        vertical-align: top;\n",
       "    }\n",
       "\n",
       "    .dataframe thead th {\n",
       "        text-align: right;\n",
       "    }\n",
       "</style>\n",
       "<table border=\"1\" class=\"dataframe\">\n",
       "  <thead>\n",
       "    <tr style=\"text-align: right;\">\n",
       "      <th></th>\n",
       "      <th>Unnamed: 0</th>\n",
       "      <th>Product_Title</th>\n",
       "      <th>Brand</th>\n",
       "      <th>Reviews</th>\n",
       "      <th>Ratings</th>\n",
       "      <th>Sentiment</th>\n",
       "    </tr>\n",
       "  </thead>\n",
       "  <tbody>\n",
       "    <tr>\n",
       "      <th>0</th>\n",
       "      <td>0</td>\n",
       "      <td>redmi note 13 pro (arctic white, 8gb ram, 128g...</td>\n",
       "      <td>redmi</td>\n",
       "      <td>battery even though phone decent specs gaming ...</td>\n",
       "      <td>4.0 out of 5 stars</td>\n",
       "      <td>Positive</td>\n",
       "    </tr>\n",
       "    <tr>\n",
       "      <th>1</th>\n",
       "      <td>1</td>\n",
       "      <td>redmi note 13 pro (arctic white, 8gb ram, 128g...</td>\n",
       "      <td>redmi</td>\n",
       "      <td>good product battery active use one day low us...</td>\n",
       "      <td>5.0 out of 5 stars</td>\n",
       "      <td>Positive</td>\n",
       "    </tr>\n",
       "    <tr>\n",
       "      <th>2</th>\n",
       "      <td>2</td>\n",
       "      <td>redmi note 13 pro (arctic white, 8gb ram, 128g...</td>\n",
       "      <td>redmi</td>\n",
       "      <td>decent budget phone everyday usagehas heating ...</td>\n",
       "      <td>4.0 out of 5 stars</td>\n",
       "      <td>Positive</td>\n",
       "    </tr>\n",
       "    <tr>\n",
       "      <th>3</th>\n",
       "      <td>3</td>\n",
       "      <td>redmi note 13 pro (arctic white, 8gb ram, 128g...</td>\n",
       "      <td>redmi</td>\n",
       "      <td>used month find genuine reviewi gaming user wa...</td>\n",
       "      <td>5.0 out of 5 stars</td>\n",
       "      <td>Positive</td>\n",
       "    </tr>\n",
       "    <tr>\n",
       "      <th>4</th>\n",
       "      <td>4</td>\n",
       "      <td>redmi note 13 pro (arctic white, 8gb ram, 128g...</td>\n",
       "      <td>redmi</td>\n",
       "      <td>excellent phone camera awesomefast charging su...</td>\n",
       "      <td>5.0 out of 5 stars</td>\n",
       "      <td>Positive</td>\n",
       "    </tr>\n",
       "    <tr>\n",
       "      <th>...</th>\n",
       "      <td>...</td>\n",
       "      <td>...</td>\n",
       "      <td>...</td>\n",
       "      <td>...</td>\n",
       "      <td>...</td>\n",
       "      <td>...</td>\n",
       "    </tr>\n",
       "    <tr>\n",
       "      <th>20015</th>\n",
       "      <td>20015</td>\n",
       "      <td>oppo a3x 5g (starry purple, 4gb ram, 64gb stor...</td>\n",
       "      <td>oppo</td>\n",
       "      <td>good product price point strong durable phone ...</td>\n",
       "      <td>5.0 out of 5 stars</td>\n",
       "      <td>Positive</td>\n",
       "    </tr>\n",
       "    <tr>\n",
       "      <th>20016</th>\n",
       "      <td>20016</td>\n",
       "      <td>oppo a3x 5g (starry purple, 4gb ram, 64gb stor...</td>\n",
       "      <td>oppo</td>\n",
       "      <td>amazing awesome device price value moneydoes j...</td>\n",
       "      <td>5.0 out of 5 stars</td>\n",
       "      <td>Positive</td>\n",
       "    </tr>\n",
       "    <tr>\n",
       "      <th>20017</th>\n",
       "      <td>20017</td>\n",
       "      <td>oppo a3x 5g (starry purple, 4gb ram, 64gb stor...</td>\n",
       "      <td>oppo</td>\n",
       "      <td>camera disappointed lot worst camera budget im...</td>\n",
       "      <td>1.0 out of 5 stars</td>\n",
       "      <td>Negative</td>\n",
       "    </tr>\n",
       "    <tr>\n",
       "      <th>20018</th>\n",
       "      <td>20018</td>\n",
       "      <td>oppo a3x 5g (starry purple, 4gb ram, 64gb stor...</td>\n",
       "      <td>oppo</td>\n",
       "      <td>good phone price range battery backup lasts da...</td>\n",
       "      <td>5.0 out of 5 stars</td>\n",
       "      <td>Positive</td>\n",
       "    </tr>\n",
       "    <tr>\n",
       "      <th>20019</th>\n",
       "      <td>20019</td>\n",
       "      <td>oppo a3x 5g (starry purple, 4gb ram, 64gb stor...</td>\n",
       "      <td>oppo</td>\n",
       "      <td>product purchaed wife good product fast chargi...</td>\n",
       "      <td>5.0 out of 5 stars</td>\n",
       "      <td>Positive</td>\n",
       "    </tr>\n",
       "  </tbody>\n",
       "</table>\n",
       "<p>20020 rows × 6 columns</p>\n",
       "</div>"
      ],
      "text/plain": [
       "       Unnamed: 0                                      Product_Title  Brand  \\\n",
       "0               0  redmi note 13 pro (arctic white, 8gb ram, 128g...  redmi   \n",
       "1               1  redmi note 13 pro (arctic white, 8gb ram, 128g...  redmi   \n",
       "2               2  redmi note 13 pro (arctic white, 8gb ram, 128g...  redmi   \n",
       "3               3  redmi note 13 pro (arctic white, 8gb ram, 128g...  redmi   \n",
       "4               4  redmi note 13 pro (arctic white, 8gb ram, 128g...  redmi   \n",
       "...           ...                                                ...    ...   \n",
       "20015       20015  oppo a3x 5g (starry purple, 4gb ram, 64gb stor...   oppo   \n",
       "20016       20016  oppo a3x 5g (starry purple, 4gb ram, 64gb stor...   oppo   \n",
       "20017       20017  oppo a3x 5g (starry purple, 4gb ram, 64gb stor...   oppo   \n",
       "20018       20018  oppo a3x 5g (starry purple, 4gb ram, 64gb stor...   oppo   \n",
       "20019       20019  oppo a3x 5g (starry purple, 4gb ram, 64gb stor...   oppo   \n",
       "\n",
       "                                                 Reviews             Ratings  \\\n",
       "0      battery even though phone decent specs gaming ...  4.0 out of 5 stars   \n",
       "1      good product battery active use one day low us...  5.0 out of 5 stars   \n",
       "2      decent budget phone everyday usagehas heating ...  4.0 out of 5 stars   \n",
       "3      used month find genuine reviewi gaming user wa...  5.0 out of 5 stars   \n",
       "4      excellent phone camera awesomefast charging su...  5.0 out of 5 stars   \n",
       "...                                                  ...                 ...   \n",
       "20015  good product price point strong durable phone ...  5.0 out of 5 stars   \n",
       "20016  amazing awesome device price value moneydoes j...  5.0 out of 5 stars   \n",
       "20017  camera disappointed lot worst camera budget im...  1.0 out of 5 stars   \n",
       "20018  good phone price range battery backup lasts da...  5.0 out of 5 stars   \n",
       "20019  product purchaed wife good product fast chargi...  5.0 out of 5 stars   \n",
       "\n",
       "      Sentiment  \n",
       "0      Positive  \n",
       "1      Positive  \n",
       "2      Positive  \n",
       "3      Positive  \n",
       "4      Positive  \n",
       "...         ...  \n",
       "20015  Positive  \n",
       "20016  Positive  \n",
       "20017  Negative  \n",
       "20018  Positive  \n",
       "20019  Positive  \n",
       "\n",
       "[20020 rows x 6 columns]"
      ]
     },
     "execution_count": 3,
     "metadata": {},
     "output_type": "execute_result"
    }
   ],
   "source": [
    "data"
   ]
  },
  {
   "cell_type": "code",
   "execution_count": 4,
   "metadata": {},
   "outputs": [],
   "source": [
    "data=data.drop('Unnamed: 0',axis=1)"
   ]
  },
  {
   "cell_type": "code",
   "execution_count": 5,
   "metadata": {},
   "outputs": [
    {
     "data": {
      "text/html": [
       "<div>\n",
       "<style scoped>\n",
       "    .dataframe tbody tr th:only-of-type {\n",
       "        vertical-align: middle;\n",
       "    }\n",
       "\n",
       "    .dataframe tbody tr th {\n",
       "        vertical-align: top;\n",
       "    }\n",
       "\n",
       "    .dataframe thead th {\n",
       "        text-align: right;\n",
       "    }\n",
       "</style>\n",
       "<table border=\"1\" class=\"dataframe\">\n",
       "  <thead>\n",
       "    <tr style=\"text-align: right;\">\n",
       "      <th></th>\n",
       "      <th>Product_Title</th>\n",
       "      <th>Brand</th>\n",
       "      <th>Reviews</th>\n",
       "      <th>Ratings</th>\n",
       "      <th>Sentiment</th>\n",
       "    </tr>\n",
       "  </thead>\n",
       "  <tbody>\n",
       "    <tr>\n",
       "      <th>0</th>\n",
       "      <td>redmi note 13 pro (arctic white, 8gb ram, 128g...</td>\n",
       "      <td>redmi</td>\n",
       "      <td>battery even though phone decent specs gaming ...</td>\n",
       "      <td>4.0 out of 5 stars</td>\n",
       "      <td>Positive</td>\n",
       "    </tr>\n",
       "    <tr>\n",
       "      <th>1</th>\n",
       "      <td>redmi note 13 pro (arctic white, 8gb ram, 128g...</td>\n",
       "      <td>redmi</td>\n",
       "      <td>good product battery active use one day low us...</td>\n",
       "      <td>5.0 out of 5 stars</td>\n",
       "      <td>Positive</td>\n",
       "    </tr>\n",
       "    <tr>\n",
       "      <th>2</th>\n",
       "      <td>redmi note 13 pro (arctic white, 8gb ram, 128g...</td>\n",
       "      <td>redmi</td>\n",
       "      <td>decent budget phone everyday usagehas heating ...</td>\n",
       "      <td>4.0 out of 5 stars</td>\n",
       "      <td>Positive</td>\n",
       "    </tr>\n",
       "    <tr>\n",
       "      <th>3</th>\n",
       "      <td>redmi note 13 pro (arctic white, 8gb ram, 128g...</td>\n",
       "      <td>redmi</td>\n",
       "      <td>used month find genuine reviewi gaming user wa...</td>\n",
       "      <td>5.0 out of 5 stars</td>\n",
       "      <td>Positive</td>\n",
       "    </tr>\n",
       "    <tr>\n",
       "      <th>4</th>\n",
       "      <td>redmi note 13 pro (arctic white, 8gb ram, 128g...</td>\n",
       "      <td>redmi</td>\n",
       "      <td>excellent phone camera awesomefast charging su...</td>\n",
       "      <td>5.0 out of 5 stars</td>\n",
       "      <td>Positive</td>\n",
       "    </tr>\n",
       "    <tr>\n",
       "      <th>...</th>\n",
       "      <td>...</td>\n",
       "      <td>...</td>\n",
       "      <td>...</td>\n",
       "      <td>...</td>\n",
       "      <td>...</td>\n",
       "    </tr>\n",
       "    <tr>\n",
       "      <th>20015</th>\n",
       "      <td>oppo a3x 5g (starry purple, 4gb ram, 64gb stor...</td>\n",
       "      <td>oppo</td>\n",
       "      <td>good product price point strong durable phone ...</td>\n",
       "      <td>5.0 out of 5 stars</td>\n",
       "      <td>Positive</td>\n",
       "    </tr>\n",
       "    <tr>\n",
       "      <th>20016</th>\n",
       "      <td>oppo a3x 5g (starry purple, 4gb ram, 64gb stor...</td>\n",
       "      <td>oppo</td>\n",
       "      <td>amazing awesome device price value moneydoes j...</td>\n",
       "      <td>5.0 out of 5 stars</td>\n",
       "      <td>Positive</td>\n",
       "    </tr>\n",
       "    <tr>\n",
       "      <th>20017</th>\n",
       "      <td>oppo a3x 5g (starry purple, 4gb ram, 64gb stor...</td>\n",
       "      <td>oppo</td>\n",
       "      <td>camera disappointed lot worst camera budget im...</td>\n",
       "      <td>1.0 out of 5 stars</td>\n",
       "      <td>Negative</td>\n",
       "    </tr>\n",
       "    <tr>\n",
       "      <th>20018</th>\n",
       "      <td>oppo a3x 5g (starry purple, 4gb ram, 64gb stor...</td>\n",
       "      <td>oppo</td>\n",
       "      <td>good phone price range battery backup lasts da...</td>\n",
       "      <td>5.0 out of 5 stars</td>\n",
       "      <td>Positive</td>\n",
       "    </tr>\n",
       "    <tr>\n",
       "      <th>20019</th>\n",
       "      <td>oppo a3x 5g (starry purple, 4gb ram, 64gb stor...</td>\n",
       "      <td>oppo</td>\n",
       "      <td>product purchaed wife good product fast chargi...</td>\n",
       "      <td>5.0 out of 5 stars</td>\n",
       "      <td>Positive</td>\n",
       "    </tr>\n",
       "  </tbody>\n",
       "</table>\n",
       "<p>20020 rows × 5 columns</p>\n",
       "</div>"
      ],
      "text/plain": [
       "                                           Product_Title  Brand  \\\n",
       "0      redmi note 13 pro (arctic white, 8gb ram, 128g...  redmi   \n",
       "1      redmi note 13 pro (arctic white, 8gb ram, 128g...  redmi   \n",
       "2      redmi note 13 pro (arctic white, 8gb ram, 128g...  redmi   \n",
       "3      redmi note 13 pro (arctic white, 8gb ram, 128g...  redmi   \n",
       "4      redmi note 13 pro (arctic white, 8gb ram, 128g...  redmi   \n",
       "...                                                  ...    ...   \n",
       "20015  oppo a3x 5g (starry purple, 4gb ram, 64gb stor...   oppo   \n",
       "20016  oppo a3x 5g (starry purple, 4gb ram, 64gb stor...   oppo   \n",
       "20017  oppo a3x 5g (starry purple, 4gb ram, 64gb stor...   oppo   \n",
       "20018  oppo a3x 5g (starry purple, 4gb ram, 64gb stor...   oppo   \n",
       "20019  oppo a3x 5g (starry purple, 4gb ram, 64gb stor...   oppo   \n",
       "\n",
       "                                                 Reviews             Ratings  \\\n",
       "0      battery even though phone decent specs gaming ...  4.0 out of 5 stars   \n",
       "1      good product battery active use one day low us...  5.0 out of 5 stars   \n",
       "2      decent budget phone everyday usagehas heating ...  4.0 out of 5 stars   \n",
       "3      used month find genuine reviewi gaming user wa...  5.0 out of 5 stars   \n",
       "4      excellent phone camera awesomefast charging su...  5.0 out of 5 stars   \n",
       "...                                                  ...                 ...   \n",
       "20015  good product price point strong durable phone ...  5.0 out of 5 stars   \n",
       "20016  amazing awesome device price value moneydoes j...  5.0 out of 5 stars   \n",
       "20017  camera disappointed lot worst camera budget im...  1.0 out of 5 stars   \n",
       "20018  good phone price range battery backup lasts da...  5.0 out of 5 stars   \n",
       "20019  product purchaed wife good product fast chargi...  5.0 out of 5 stars   \n",
       "\n",
       "      Sentiment  \n",
       "0      Positive  \n",
       "1      Positive  \n",
       "2      Positive  \n",
       "3      Positive  \n",
       "4      Positive  \n",
       "...         ...  \n",
       "20015  Positive  \n",
       "20016  Positive  \n",
       "20017  Negative  \n",
       "20018  Positive  \n",
       "20019  Positive  \n",
       "\n",
       "[20020 rows x 5 columns]"
      ]
     },
     "execution_count": 5,
     "metadata": {},
     "output_type": "execute_result"
    }
   ],
   "source": [
    "data"
   ]
  },
  {
   "cell_type": "code",
   "execution_count": 6,
   "metadata": {},
   "outputs": [],
   "source": [
    "data=data[['Reviews','Sentiment']]"
   ]
  },
  {
   "cell_type": "code",
   "execution_count": 7,
   "metadata": {},
   "outputs": [
    {
     "data": {
      "text/html": [
       "<div>\n",
       "<style scoped>\n",
       "    .dataframe tbody tr th:only-of-type {\n",
       "        vertical-align: middle;\n",
       "    }\n",
       "\n",
       "    .dataframe tbody tr th {\n",
       "        vertical-align: top;\n",
       "    }\n",
       "\n",
       "    .dataframe thead th {\n",
       "        text-align: right;\n",
       "    }\n",
       "</style>\n",
       "<table border=\"1\" class=\"dataframe\">\n",
       "  <thead>\n",
       "    <tr style=\"text-align: right;\">\n",
       "      <th></th>\n",
       "      <th>Reviews</th>\n",
       "      <th>Sentiment</th>\n",
       "    </tr>\n",
       "  </thead>\n",
       "  <tbody>\n",
       "    <tr>\n",
       "      <th>0</th>\n",
       "      <td>battery even though phone decent specs gaming ...</td>\n",
       "      <td>Positive</td>\n",
       "    </tr>\n",
       "    <tr>\n",
       "      <th>1</th>\n",
       "      <td>good product battery active use one day low us...</td>\n",
       "      <td>Positive</td>\n",
       "    </tr>\n",
       "    <tr>\n",
       "      <th>2</th>\n",
       "      <td>decent budget phone everyday usagehas heating ...</td>\n",
       "      <td>Positive</td>\n",
       "    </tr>\n",
       "    <tr>\n",
       "      <th>3</th>\n",
       "      <td>used month find genuine reviewi gaming user wa...</td>\n",
       "      <td>Positive</td>\n",
       "    </tr>\n",
       "    <tr>\n",
       "      <th>4</th>\n",
       "      <td>excellent phone camera awesomefast charging su...</td>\n",
       "      <td>Positive</td>\n",
       "    </tr>\n",
       "    <tr>\n",
       "      <th>...</th>\n",
       "      <td>...</td>\n",
       "      <td>...</td>\n",
       "    </tr>\n",
       "    <tr>\n",
       "      <th>20015</th>\n",
       "      <td>good product price point strong durable phone ...</td>\n",
       "      <td>Positive</td>\n",
       "    </tr>\n",
       "    <tr>\n",
       "      <th>20016</th>\n",
       "      <td>amazing awesome device price value moneydoes j...</td>\n",
       "      <td>Positive</td>\n",
       "    </tr>\n",
       "    <tr>\n",
       "      <th>20017</th>\n",
       "      <td>camera disappointed lot worst camera budget im...</td>\n",
       "      <td>Negative</td>\n",
       "    </tr>\n",
       "    <tr>\n",
       "      <th>20018</th>\n",
       "      <td>good phone price range battery backup lasts da...</td>\n",
       "      <td>Positive</td>\n",
       "    </tr>\n",
       "    <tr>\n",
       "      <th>20019</th>\n",
       "      <td>product purchaed wife good product fast chargi...</td>\n",
       "      <td>Positive</td>\n",
       "    </tr>\n",
       "  </tbody>\n",
       "</table>\n",
       "<p>20020 rows × 2 columns</p>\n",
       "</div>"
      ],
      "text/plain": [
       "                                                 Reviews Sentiment\n",
       "0      battery even though phone decent specs gaming ...  Positive\n",
       "1      good product battery active use one day low us...  Positive\n",
       "2      decent budget phone everyday usagehas heating ...  Positive\n",
       "3      used month find genuine reviewi gaming user wa...  Positive\n",
       "4      excellent phone camera awesomefast charging su...  Positive\n",
       "...                                                  ...       ...\n",
       "20015  good product price point strong durable phone ...  Positive\n",
       "20016  amazing awesome device price value moneydoes j...  Positive\n",
       "20017  camera disappointed lot worst camera budget im...  Negative\n",
       "20018  good phone price range battery backup lasts da...  Positive\n",
       "20019  product purchaed wife good product fast chargi...  Positive\n",
       "\n",
       "[20020 rows x 2 columns]"
      ]
     },
     "execution_count": 7,
     "metadata": {},
     "output_type": "execute_result"
    }
   ],
   "source": [
    "data"
   ]
  },
  {
   "cell_type": "code",
   "execution_count": 8,
   "metadata": {},
   "outputs": [],
   "source": [
    "x=data['Reviews']\n",
    "y=data['Sentiment']"
   ]
  },
  {
   "cell_type": "code",
   "execution_count": 9,
   "metadata": {},
   "outputs": [],
   "source": [
    "y=y.apply(lambda x: 1 if x=='Positive' else 0)"
   ]
  },
  {
   "cell_type": "code",
   "execution_count": 10,
   "metadata": {},
   "outputs": [
    {
     "data": {
      "text/plain": [
       "0        1\n",
       "1        1\n",
       "2        1\n",
       "3        1\n",
       "4        1\n",
       "        ..\n",
       "20015    1\n",
       "20016    1\n",
       "20017    0\n",
       "20018    1\n",
       "20019    1\n",
       "Name: Sentiment, Length: 20020, dtype: int64"
      ]
     },
     "execution_count": 10,
     "metadata": {},
     "output_type": "execute_result"
    }
   ],
   "source": [
    "y"
   ]
  },
  {
   "cell_type": "code",
   "execution_count": 11,
   "metadata": {},
   "outputs": [],
   "source": [
    "x_train,x_test,y_train,y_test=train_test_split(x,y,test_size=0.2)"
   ]
  },
  {
   "cell_type": "code",
   "execution_count": 12,
   "metadata": {},
   "outputs": [],
   "source": [
    "vect=CountVectorizer()"
   ]
  },
  {
   "cell_type": "code",
   "execution_count": 13,
   "metadata": {},
   "outputs": [
    {
     "data": {
      "text/plain": [
       "array([[0, 0, 0, ..., 0, 0, 0],\n",
       "       [0, 0, 0, ..., 0, 0, 0],\n",
       "       [0, 0, 0, ..., 0, 0, 0]], dtype=int64)"
      ]
     },
     "execution_count": 13,
     "metadata": {},
     "output_type": "execute_result"
    }
   ],
   "source": [
    "x_train_count=vect.fit_transform(x_train.values)\n",
    "x_train_count.toarray()[:3]"
   ]
  },
  {
   "cell_type": "code",
   "execution_count": 14,
   "metadata": {},
   "outputs": [
    {
     "data": {
      "text/html": [
       "<style>#sk-container-id-1 {\n",
       "  /* Definition of color scheme common for light and dark mode */\n",
       "  --sklearn-color-text: black;\n",
       "  --sklearn-color-line: gray;\n",
       "  /* Definition of color scheme for unfitted estimators */\n",
       "  --sklearn-color-unfitted-level-0: #fff5e6;\n",
       "  --sklearn-color-unfitted-level-1: #f6e4d2;\n",
       "  --sklearn-color-unfitted-level-2: #ffe0b3;\n",
       "  --sklearn-color-unfitted-level-3: chocolate;\n",
       "  /* Definition of color scheme for fitted estimators */\n",
       "  --sklearn-color-fitted-level-0: #f0f8ff;\n",
       "  --sklearn-color-fitted-level-1: #d4ebff;\n",
       "  --sklearn-color-fitted-level-2: #b3dbfd;\n",
       "  --sklearn-color-fitted-level-3: cornflowerblue;\n",
       "\n",
       "  /* Specific color for light theme */\n",
       "  --sklearn-color-text-on-default-background: var(--sg-text-color, var(--theme-code-foreground, var(--jp-content-font-color1, black)));\n",
       "  --sklearn-color-background: var(--sg-background-color, var(--theme-background, var(--jp-layout-color0, white)));\n",
       "  --sklearn-color-border-box: var(--sg-text-color, var(--theme-code-foreground, var(--jp-content-font-color1, black)));\n",
       "  --sklearn-color-icon: #696969;\n",
       "\n",
       "  @media (prefers-color-scheme: dark) {\n",
       "    /* Redefinition of color scheme for dark theme */\n",
       "    --sklearn-color-text-on-default-background: var(--sg-text-color, var(--theme-code-foreground, var(--jp-content-font-color1, white)));\n",
       "    --sklearn-color-background: var(--sg-background-color, var(--theme-background, var(--jp-layout-color0, #111)));\n",
       "    --sklearn-color-border-box: var(--sg-text-color, var(--theme-code-foreground, var(--jp-content-font-color1, white)));\n",
       "    --sklearn-color-icon: #878787;\n",
       "  }\n",
       "}\n",
       "\n",
       "#sk-container-id-1 {\n",
       "  color: var(--sklearn-color-text);\n",
       "}\n",
       "\n",
       "#sk-container-id-1 pre {\n",
       "  padding: 0;\n",
       "}\n",
       "\n",
       "#sk-container-id-1 input.sk-hidden--visually {\n",
       "  border: 0;\n",
       "  clip: rect(1px 1px 1px 1px);\n",
       "  clip: rect(1px, 1px, 1px, 1px);\n",
       "  height: 1px;\n",
       "  margin: -1px;\n",
       "  overflow: hidden;\n",
       "  padding: 0;\n",
       "  position: absolute;\n",
       "  width: 1px;\n",
       "}\n",
       "\n",
       "#sk-container-id-1 div.sk-dashed-wrapped {\n",
       "  border: 1px dashed var(--sklearn-color-line);\n",
       "  margin: 0 0.4em 0.5em 0.4em;\n",
       "  box-sizing: border-box;\n",
       "  padding-bottom: 0.4em;\n",
       "  background-color: var(--sklearn-color-background);\n",
       "}\n",
       "\n",
       "#sk-container-id-1 div.sk-container {\n",
       "  /* jupyter's `normalize.less` sets `[hidden] { display: none; }`\n",
       "     but bootstrap.min.css set `[hidden] { display: none !important; }`\n",
       "     so we also need the `!important` here to be able to override the\n",
       "     default hidden behavior on the sphinx rendered scikit-learn.org.\n",
       "     See: https://github.com/scikit-learn/scikit-learn/issues/21755 */\n",
       "  display: inline-block !important;\n",
       "  position: relative;\n",
       "}\n",
       "\n",
       "#sk-container-id-1 div.sk-text-repr-fallback {\n",
       "  display: none;\n",
       "}\n",
       "\n",
       "div.sk-parallel-item,\n",
       "div.sk-serial,\n",
       "div.sk-item {\n",
       "  /* draw centered vertical line to link estimators */\n",
       "  background-image: linear-gradient(var(--sklearn-color-text-on-default-background), var(--sklearn-color-text-on-default-background));\n",
       "  background-size: 2px 100%;\n",
       "  background-repeat: no-repeat;\n",
       "  background-position: center center;\n",
       "}\n",
       "\n",
       "/* Parallel-specific style estimator block */\n",
       "\n",
       "#sk-container-id-1 div.sk-parallel-item::after {\n",
       "  content: \"\";\n",
       "  width: 100%;\n",
       "  border-bottom: 2px solid var(--sklearn-color-text-on-default-background);\n",
       "  flex-grow: 1;\n",
       "}\n",
       "\n",
       "#sk-container-id-1 div.sk-parallel {\n",
       "  display: flex;\n",
       "  align-items: stretch;\n",
       "  justify-content: center;\n",
       "  background-color: var(--sklearn-color-background);\n",
       "  position: relative;\n",
       "}\n",
       "\n",
       "#sk-container-id-1 div.sk-parallel-item {\n",
       "  display: flex;\n",
       "  flex-direction: column;\n",
       "}\n",
       "\n",
       "#sk-container-id-1 div.sk-parallel-item:first-child::after {\n",
       "  align-self: flex-end;\n",
       "  width: 50%;\n",
       "}\n",
       "\n",
       "#sk-container-id-1 div.sk-parallel-item:last-child::after {\n",
       "  align-self: flex-start;\n",
       "  width: 50%;\n",
       "}\n",
       "\n",
       "#sk-container-id-1 div.sk-parallel-item:only-child::after {\n",
       "  width: 0;\n",
       "}\n",
       "\n",
       "/* Serial-specific style estimator block */\n",
       "\n",
       "#sk-container-id-1 div.sk-serial {\n",
       "  display: flex;\n",
       "  flex-direction: column;\n",
       "  align-items: center;\n",
       "  background-color: var(--sklearn-color-background);\n",
       "  padding-right: 1em;\n",
       "  padding-left: 1em;\n",
       "}\n",
       "\n",
       "\n",
       "/* Toggleable style: style used for estimator/Pipeline/ColumnTransformer box that is\n",
       "clickable and can be expanded/collapsed.\n",
       "- Pipeline and ColumnTransformer use this feature and define the default style\n",
       "- Estimators will overwrite some part of the style using the `sk-estimator` class\n",
       "*/\n",
       "\n",
       "/* Pipeline and ColumnTransformer style (default) */\n",
       "\n",
       "#sk-container-id-1 div.sk-toggleable {\n",
       "  /* Default theme specific background. It is overwritten whether we have a\n",
       "  specific estimator or a Pipeline/ColumnTransformer */\n",
       "  background-color: var(--sklearn-color-background);\n",
       "}\n",
       "\n",
       "/* Toggleable label */\n",
       "#sk-container-id-1 label.sk-toggleable__label {\n",
       "  cursor: pointer;\n",
       "  display: block;\n",
       "  width: 100%;\n",
       "  margin-bottom: 0;\n",
       "  padding: 0.5em;\n",
       "  box-sizing: border-box;\n",
       "  text-align: center;\n",
       "}\n",
       "\n",
       "#sk-container-id-1 label.sk-toggleable__label-arrow:before {\n",
       "  /* Arrow on the left of the label */\n",
       "  content: \"▸\";\n",
       "  float: left;\n",
       "  margin-right: 0.25em;\n",
       "  color: var(--sklearn-color-icon);\n",
       "}\n",
       "\n",
       "#sk-container-id-1 label.sk-toggleable__label-arrow:hover:before {\n",
       "  color: var(--sklearn-color-text);\n",
       "}\n",
       "\n",
       "/* Toggleable content - dropdown */\n",
       "\n",
       "#sk-container-id-1 div.sk-toggleable__content {\n",
       "  max-height: 0;\n",
       "  max-width: 0;\n",
       "  overflow: hidden;\n",
       "  text-align: left;\n",
       "  /* unfitted */\n",
       "  background-color: var(--sklearn-color-unfitted-level-0);\n",
       "}\n",
       "\n",
       "#sk-container-id-1 div.sk-toggleable__content.fitted {\n",
       "  /* fitted */\n",
       "  background-color: var(--sklearn-color-fitted-level-0);\n",
       "}\n",
       "\n",
       "#sk-container-id-1 div.sk-toggleable__content pre {\n",
       "  margin: 0.2em;\n",
       "  border-radius: 0.25em;\n",
       "  color: var(--sklearn-color-text);\n",
       "  /* unfitted */\n",
       "  background-color: var(--sklearn-color-unfitted-level-0);\n",
       "}\n",
       "\n",
       "#sk-container-id-1 div.sk-toggleable__content.fitted pre {\n",
       "  /* unfitted */\n",
       "  background-color: var(--sklearn-color-fitted-level-0);\n",
       "}\n",
       "\n",
       "#sk-container-id-1 input.sk-toggleable__control:checked~div.sk-toggleable__content {\n",
       "  /* Expand drop-down */\n",
       "  max-height: 200px;\n",
       "  max-width: 100%;\n",
       "  overflow: auto;\n",
       "}\n",
       "\n",
       "#sk-container-id-1 input.sk-toggleable__control:checked~label.sk-toggleable__label-arrow:before {\n",
       "  content: \"▾\";\n",
       "}\n",
       "\n",
       "/* Pipeline/ColumnTransformer-specific style */\n",
       "\n",
       "#sk-container-id-1 div.sk-label input.sk-toggleable__control:checked~label.sk-toggleable__label {\n",
       "  color: var(--sklearn-color-text);\n",
       "  background-color: var(--sklearn-color-unfitted-level-2);\n",
       "}\n",
       "\n",
       "#sk-container-id-1 div.sk-label.fitted input.sk-toggleable__control:checked~label.sk-toggleable__label {\n",
       "  background-color: var(--sklearn-color-fitted-level-2);\n",
       "}\n",
       "\n",
       "/* Estimator-specific style */\n",
       "\n",
       "/* Colorize estimator box */\n",
       "#sk-container-id-1 div.sk-estimator input.sk-toggleable__control:checked~label.sk-toggleable__label {\n",
       "  /* unfitted */\n",
       "  background-color: var(--sklearn-color-unfitted-level-2);\n",
       "}\n",
       "\n",
       "#sk-container-id-1 div.sk-estimator.fitted input.sk-toggleable__control:checked~label.sk-toggleable__label {\n",
       "  /* fitted */\n",
       "  background-color: var(--sklearn-color-fitted-level-2);\n",
       "}\n",
       "\n",
       "#sk-container-id-1 div.sk-label label.sk-toggleable__label,\n",
       "#sk-container-id-1 div.sk-label label {\n",
       "  /* The background is the default theme color */\n",
       "  color: var(--sklearn-color-text-on-default-background);\n",
       "}\n",
       "\n",
       "/* On hover, darken the color of the background */\n",
       "#sk-container-id-1 div.sk-label:hover label.sk-toggleable__label {\n",
       "  color: var(--sklearn-color-text);\n",
       "  background-color: var(--sklearn-color-unfitted-level-2);\n",
       "}\n",
       "\n",
       "/* Label box, darken color on hover, fitted */\n",
       "#sk-container-id-1 div.sk-label.fitted:hover label.sk-toggleable__label.fitted {\n",
       "  color: var(--sklearn-color-text);\n",
       "  background-color: var(--sklearn-color-fitted-level-2);\n",
       "}\n",
       "\n",
       "/* Estimator label */\n",
       "\n",
       "#sk-container-id-1 div.sk-label label {\n",
       "  font-family: monospace;\n",
       "  font-weight: bold;\n",
       "  display: inline-block;\n",
       "  line-height: 1.2em;\n",
       "}\n",
       "\n",
       "#sk-container-id-1 div.sk-label-container {\n",
       "  text-align: center;\n",
       "}\n",
       "\n",
       "/* Estimator-specific */\n",
       "#sk-container-id-1 div.sk-estimator {\n",
       "  font-family: monospace;\n",
       "  border: 1px dotted var(--sklearn-color-border-box);\n",
       "  border-radius: 0.25em;\n",
       "  box-sizing: border-box;\n",
       "  margin-bottom: 0.5em;\n",
       "  /* unfitted */\n",
       "  background-color: var(--sklearn-color-unfitted-level-0);\n",
       "}\n",
       "\n",
       "#sk-container-id-1 div.sk-estimator.fitted {\n",
       "  /* fitted */\n",
       "  background-color: var(--sklearn-color-fitted-level-0);\n",
       "}\n",
       "\n",
       "/* on hover */\n",
       "#sk-container-id-1 div.sk-estimator:hover {\n",
       "  /* unfitted */\n",
       "  background-color: var(--sklearn-color-unfitted-level-2);\n",
       "}\n",
       "\n",
       "#sk-container-id-1 div.sk-estimator.fitted:hover {\n",
       "  /* fitted */\n",
       "  background-color: var(--sklearn-color-fitted-level-2);\n",
       "}\n",
       "\n",
       "/* Specification for estimator info (e.g. \"i\" and \"?\") */\n",
       "\n",
       "/* Common style for \"i\" and \"?\" */\n",
       "\n",
       ".sk-estimator-doc-link,\n",
       "a:link.sk-estimator-doc-link,\n",
       "a:visited.sk-estimator-doc-link {\n",
       "  float: right;\n",
       "  font-size: smaller;\n",
       "  line-height: 1em;\n",
       "  font-family: monospace;\n",
       "  background-color: var(--sklearn-color-background);\n",
       "  border-radius: 1em;\n",
       "  height: 1em;\n",
       "  width: 1em;\n",
       "  text-decoration: none !important;\n",
       "  margin-left: 1ex;\n",
       "  /* unfitted */\n",
       "  border: var(--sklearn-color-unfitted-level-1) 1pt solid;\n",
       "  color: var(--sklearn-color-unfitted-level-1);\n",
       "}\n",
       "\n",
       ".sk-estimator-doc-link.fitted,\n",
       "a:link.sk-estimator-doc-link.fitted,\n",
       "a:visited.sk-estimator-doc-link.fitted {\n",
       "  /* fitted */\n",
       "  border: var(--sklearn-color-fitted-level-1) 1pt solid;\n",
       "  color: var(--sklearn-color-fitted-level-1);\n",
       "}\n",
       "\n",
       "/* On hover */\n",
       "div.sk-estimator:hover .sk-estimator-doc-link:hover,\n",
       ".sk-estimator-doc-link:hover,\n",
       "div.sk-label-container:hover .sk-estimator-doc-link:hover,\n",
       ".sk-estimator-doc-link:hover {\n",
       "  /* unfitted */\n",
       "  background-color: var(--sklearn-color-unfitted-level-3);\n",
       "  color: var(--sklearn-color-background);\n",
       "  text-decoration: none;\n",
       "}\n",
       "\n",
       "div.sk-estimator.fitted:hover .sk-estimator-doc-link.fitted:hover,\n",
       ".sk-estimator-doc-link.fitted:hover,\n",
       "div.sk-label-container:hover .sk-estimator-doc-link.fitted:hover,\n",
       ".sk-estimator-doc-link.fitted:hover {\n",
       "  /* fitted */\n",
       "  background-color: var(--sklearn-color-fitted-level-3);\n",
       "  color: var(--sklearn-color-background);\n",
       "  text-decoration: none;\n",
       "}\n",
       "\n",
       "/* Span, style for the box shown on hovering the info icon */\n",
       ".sk-estimator-doc-link span {\n",
       "  display: none;\n",
       "  z-index: 9999;\n",
       "  position: relative;\n",
       "  font-weight: normal;\n",
       "  right: .2ex;\n",
       "  padding: .5ex;\n",
       "  margin: .5ex;\n",
       "  width: min-content;\n",
       "  min-width: 20ex;\n",
       "  max-width: 50ex;\n",
       "  color: var(--sklearn-color-text);\n",
       "  box-shadow: 2pt 2pt 4pt #999;\n",
       "  /* unfitted */\n",
       "  background: var(--sklearn-color-unfitted-level-0);\n",
       "  border: .5pt solid var(--sklearn-color-unfitted-level-3);\n",
       "}\n",
       "\n",
       ".sk-estimator-doc-link.fitted span {\n",
       "  /* fitted */\n",
       "  background: var(--sklearn-color-fitted-level-0);\n",
       "  border: var(--sklearn-color-fitted-level-3);\n",
       "}\n",
       "\n",
       ".sk-estimator-doc-link:hover span {\n",
       "  display: block;\n",
       "}\n",
       "\n",
       "/* \"?\"-specific style due to the `<a>` HTML tag */\n",
       "\n",
       "#sk-container-id-1 a.estimator_doc_link {\n",
       "  float: right;\n",
       "  font-size: 1rem;\n",
       "  line-height: 1em;\n",
       "  font-family: monospace;\n",
       "  background-color: var(--sklearn-color-background);\n",
       "  border-radius: 1rem;\n",
       "  height: 1rem;\n",
       "  width: 1rem;\n",
       "  text-decoration: none;\n",
       "  /* unfitted */\n",
       "  color: var(--sklearn-color-unfitted-level-1);\n",
       "  border: var(--sklearn-color-unfitted-level-1) 1pt solid;\n",
       "}\n",
       "\n",
       "#sk-container-id-1 a.estimator_doc_link.fitted {\n",
       "  /* fitted */\n",
       "  border: var(--sklearn-color-fitted-level-1) 1pt solid;\n",
       "  color: var(--sklearn-color-fitted-level-1);\n",
       "}\n",
       "\n",
       "/* On hover */\n",
       "#sk-container-id-1 a.estimator_doc_link:hover {\n",
       "  /* unfitted */\n",
       "  background-color: var(--sklearn-color-unfitted-level-3);\n",
       "  color: var(--sklearn-color-background);\n",
       "  text-decoration: none;\n",
       "}\n",
       "\n",
       "#sk-container-id-1 a.estimator_doc_link.fitted:hover {\n",
       "  /* fitted */\n",
       "  background-color: var(--sklearn-color-fitted-level-3);\n",
       "}\n",
       "</style><div id=\"sk-container-id-1\" class=\"sk-top-container\"><div class=\"sk-text-repr-fallback\"><pre>MultinomialNB()</pre><b>In a Jupyter environment, please rerun this cell to show the HTML representation or trust the notebook. <br />On GitHub, the HTML representation is unable to render, please try loading this page with nbviewer.org.</b></div><div class=\"sk-container\" hidden><div class=\"sk-item\"><div class=\"sk-estimator fitted sk-toggleable\"><input class=\"sk-toggleable__control sk-hidden--visually\" id=\"sk-estimator-id-1\" type=\"checkbox\" checked><label for=\"sk-estimator-id-1\" class=\"sk-toggleable__label fitted sk-toggleable__label-arrow fitted\">&nbsp;&nbsp;MultinomialNB<a class=\"sk-estimator-doc-link fitted\" rel=\"noreferrer\" target=\"_blank\" href=\"https://scikit-learn.org/1.5/modules/generated/sklearn.naive_bayes.MultinomialNB.html\">?<span>Documentation for MultinomialNB</span></a><span class=\"sk-estimator-doc-link fitted\">i<span>Fitted</span></span></label><div class=\"sk-toggleable__content fitted\"><pre>MultinomialNB()</pre></div> </div></div></div></div>"
      ],
      "text/plain": [
       "MultinomialNB()"
      ]
     },
     "execution_count": 14,
     "metadata": {},
     "output_type": "execute_result"
    }
   ],
   "source": [
    "model=MultinomialNB()\n",
    "model.fit(x_train_count,y_train)"
   ]
  },
  {
   "cell_type": "code",
   "execution_count": 15,
   "metadata": {},
   "outputs": [
    {
     "name": "stdout",
     "output_type": "stream",
     "text": [
      "0.9050949050949051\n",
      "0.9412673879443586\n",
      "0.9678957406230133\n",
      "0.9160649819494585\n"
     ]
    }
   ],
   "source": [
    "x_test_count=vect.transform(x_test)\n",
    "print(accuracy_score(y_test,model.predict(x_test_count)))\n",
    "print(f1_score(y_test,model.predict(x_test_count)))\n",
    "print(recall_score(y_test,model.predict(x_test_count)))\n",
    "print(precision_score(y_test,model.predict(x_test_count)))"
   ]
  },
  {
   "cell_type": "code",
   "execution_count": 16,
   "metadata": {},
   "outputs": [
    {
     "data": {
      "text/plain": [
       "array([0, 1], dtype=int64)"
      ]
     },
     "execution_count": 16,
     "metadata": {},
     "output_type": "execute_result"
    }
   ],
   "source": [
    "reviews=['The phone is very bad','The phone is good'] \n",
    "reviews_count=vect.transform(reviews)\n",
    "model.predict(reviews_count)  "
   ]
  },
  {
   "cell_type": "code",
   "execution_count": 17,
   "metadata": {},
   "outputs": [
    {
     "name": "stdout",
     "output_type": "stream",
     "text": [
      "0.9383116883116883\n",
      "0.9615084930652953\n",
      "0.9806102987921169\n",
      "0.9431366554570467\n"
     ]
    }
   ],
   "source": [
    "model=LogisticRegression()\n",
    "model.fit(x_train_count,y_train)\n",
    "x_test_count=vect.transform(x_test)\n",
    "print(accuracy_score(y_test,model.predict(x_test_count)))\n",
    "print(f1_score(y_test,model.predict(x_test_count)))\n",
    "print(recall_score(y_test,model.predict(x_test_count)))\n",
    "print(precision_score(y_test,model.predict(x_test_count)))"
   ]
  },
  {
   "cell_type": "code",
   "execution_count": 18,
   "metadata": {},
   "outputs": [
    {
     "data": {
      "text/plain": [
       "array([0, 1], dtype=int64)"
      ]
     },
     "execution_count": 18,
     "metadata": {},
     "output_type": "execute_result"
    }
   ],
   "source": [
    "reviews=['The phone is very bad','The phone is good'] \n",
    "reviews_count=vect.transform(reviews)\n",
    "model.predict(reviews_count) "
   ]
  },
  {
   "cell_type": "code",
   "execution_count": 19,
   "metadata": {},
   "outputs": [
    {
     "name": "stdout",
     "output_type": "stream",
     "text": [
      "0.9552947052947053\n",
      "0.9715737652850563\n",
      "0.9723458359821996\n",
      "0.9708029197080292\n"
     ]
    }
   ],
   "source": [
    "model=DecisionTreeClassifier()\n",
    "model.fit(x_train_count,y_train)\n",
    "x_test_count=vect.transform(x_test)\n",
    "print(accuracy_score(y_test,model.predict(x_test_count)))\n",
    "print(f1_score(y_test,model.predict(x_test_count)))\n",
    "print(recall_score(y_test,model.predict(x_test_count)))\n",
    "print(precision_score(y_test,model.predict(x_test_count)))"
   ]
  },
  {
   "cell_type": "code",
   "execution_count": 20,
   "metadata": {},
   "outputs": [
    {
     "data": {
      "text/plain": [
       "array([0, 1], dtype=int64)"
      ]
     },
     "execution_count": 20,
     "metadata": {},
     "output_type": "execute_result"
    }
   ],
   "source": [
    "reviews=['The phone is very bad','The phone is good'] \n",
    "reviews_count=vect.transform(reviews)\n",
    "model.predict(reviews_count) "
   ]
  },
  {
   "cell_type": "code",
   "execution_count": 21,
   "metadata": {},
   "outputs": [
    {
     "name": "stdout",
     "output_type": "stream",
     "text": [
      "0.97002997002997\n",
      "0.9811912225705329\n",
      "0.9949141767323586\n",
      "0.9678416821273964\n"
     ]
    }
   ],
   "source": [
    "model=RandomForestClassifier()\n",
    "model.fit(x_train_count,y_train)\n",
    "x_test_count=vect.transform(x_test)\n",
    "print(accuracy_score(y_test,model.predict(x_test_count)))\n",
    "print(f1_score(y_test,model.predict(x_test_count)))\n",
    "print(recall_score(y_test,model.predict(x_test_count)))\n",
    "print(precision_score(y_test,model.predict(x_test_count)))"
   ]
  },
  {
   "cell_type": "code",
   "execution_count": 22,
   "metadata": {},
   "outputs": [
    {
     "data": {
      "text/plain": [
       "array([0, 1], dtype=int64)"
      ]
     },
     "execution_count": 22,
     "metadata": {},
     "output_type": "execute_result"
    }
   ],
   "source": [
    "reviews=['The phone is very bad','The phone is good'] \n",
    "reviews_count=vect.transform(reviews)\n",
    "model.predict(reviews_count) "
   ]
  },
  {
   "cell_type": "code",
   "execution_count": 23,
   "metadata": {},
   "outputs": [
    {
     "name": "stdout",
     "output_type": "stream",
     "text": [
      "0.9013486513486514\n",
      "0.9389395578914824\n",
      "0.9653528289891926\n",
      "0.9139331928979838\n"
     ]
    }
   ],
   "source": [
    "model=KNeighborsClassifier()\n",
    "model.fit(x_train_count,y_train)\n",
    "x_test_count=vect.transform(x_test)\n",
    "print(accuracy_score(y_test,model.predict(x_test_count)))\n",
    "print(f1_score(y_test,model.predict(x_test_count)))\n",
    "print(recall_score(y_test,model.predict(x_test_count)))\n",
    "print(precision_score(y_test,model.predict(x_test_count)))\n"
   ]
  },
  {
   "cell_type": "code",
   "execution_count": 24,
   "metadata": {},
   "outputs": [
    {
     "data": {
      "text/plain": [
       "array([0, 1], dtype=int64)"
      ]
     },
     "execution_count": 24,
     "metadata": {},
     "output_type": "execute_result"
    }
   ],
   "source": [
    "reviews=['The phone is very bad','The phone is good'] \n",
    "reviews_count=vect.transform(reviews)\n",
    "model.predict(reviews_count) "
   ]
  },
  {
   "cell_type": "code",
   "execution_count": 25,
   "metadata": {},
   "outputs": [
    {
     "name": "stdout",
     "output_type": "stream",
     "text": [
      "0.9278221778221778\n",
      "0.9556680472465102\n",
      "0.9901462174189447\n",
      "0.9235102282834272\n"
     ]
    }
   ],
   "source": [
    "model=SVC()\n",
    "model.fit(x_train_count,y_train)\n",
    "x_test_count=vect.transform(x_test)\n",
    "print(accuracy_score(y_test,model.predict(x_test_count)))\n",
    "print(f1_score(y_test,model.predict(x_test_count)))\n",
    "print(recall_score(y_test,model.predict(x_test_count)))\n",
    "print(precision_score(y_test,model.predict(x_test_count)))"
   ]
  },
  {
   "cell_type": "code",
   "execution_count": 26,
   "metadata": {},
   "outputs": [
    {
     "data": {
      "text/plain": [
       "array([0, 1], dtype=int64)"
      ]
     },
     "execution_count": 26,
     "metadata": {},
     "output_type": "execute_result"
    }
   ],
   "source": [
    "reviews=['The phone is very bad','The phone is good'] \n",
    "reviews_count=vect.transform(reviews)\n",
    "model.predict(reviews_count) "
   ]
  },
  {
   "cell_type": "code",
   "execution_count": 27,
   "metadata": {},
   "outputs": [
    {
     "name": "stdout",
     "output_type": "stream",
     "text": [
      "       Unnamed: 0                                      Product_Title  Brand  \\\n",
      "0               0  redmi note 13 pro (arctic white, 8gb ram, 128g...  redmi   \n",
      "1               1  redmi note 13 pro (arctic white, 8gb ram, 128g...  redmi   \n",
      "2               2  redmi note 13 pro (arctic white, 8gb ram, 128g...  redmi   \n",
      "3               3  redmi note 13 pro (arctic white, 8gb ram, 128g...  redmi   \n",
      "4               4  redmi note 13 pro (arctic white, 8gb ram, 128g...  redmi   \n",
      "...           ...                                                ...    ...   \n",
      "20015       20015  oppo a3x 5g (starry purple, 4gb ram, 64gb stor...   oppo   \n",
      "20016       20016  oppo a3x 5g (starry purple, 4gb ram, 64gb stor...   oppo   \n",
      "20017       20017  oppo a3x 5g (starry purple, 4gb ram, 64gb stor...   oppo   \n",
      "20018       20018  oppo a3x 5g (starry purple, 4gb ram, 64gb stor...   oppo   \n",
      "20019       20019  oppo a3x 5g (starry purple, 4gb ram, 64gb stor...   oppo   \n",
      "\n",
      "                                                 Reviews             Ratings  \\\n",
      "0      battery even though phone decent specs gaming ...  4.0 out of 5 stars   \n",
      "1      good product battery active use one day low us...  5.0 out of 5 stars   \n",
      "2      decent budget phone everyday usagehas heating ...  4.0 out of 5 stars   \n",
      "3      used month find genuine reviewi gaming user wa...  5.0 out of 5 stars   \n",
      "4      excellent phone camera awesomefast charging su...  5.0 out of 5 stars   \n",
      "...                                                  ...                 ...   \n",
      "20015  good product price point strong durable phone ...  5.0 out of 5 stars   \n",
      "20016  amazing awesome device price value moneydoes j...  5.0 out of 5 stars   \n",
      "20017  camera disappointed lot worst camera budget im...  1.0 out of 5 stars   \n",
      "20018  good phone price range battery backup lasts da...  5.0 out of 5 stars   \n",
      "20019  product purchaed wife good product fast chargi...  5.0 out of 5 stars   \n",
      "\n",
      "      Sentiment  \n",
      "0      Positive  \n",
      "1      Positive  \n",
      "2      Positive  \n",
      "3      Positive  \n",
      "4      Positive  \n",
      "...         ...  \n",
      "20015  Positive  \n",
      "20016  Positive  \n",
      "20017  Negative  \n",
      "20018  Positive  \n",
      "20019  Positive  \n",
      "\n",
      "[20020 rows x 6 columns]\n",
      "                                           Product_Title  Brand  \\\n",
      "0      redmi note 13 pro (arctic white, 8gb ram, 128g...  redmi   \n",
      "1      redmi note 13 pro (arctic white, 8gb ram, 128g...  redmi   \n",
      "2      redmi note 13 pro (arctic white, 8gb ram, 128g...  redmi   \n",
      "3      redmi note 13 pro (arctic white, 8gb ram, 128g...  redmi   \n",
      "4      redmi note 13 pro (arctic white, 8gb ram, 128g...  redmi   \n",
      "...                                                  ...    ...   \n",
      "20015  oppo a3x 5g (starry purple, 4gb ram, 64gb stor...   oppo   \n",
      "20016  oppo a3x 5g (starry purple, 4gb ram, 64gb stor...   oppo   \n",
      "20017  oppo a3x 5g (starry purple, 4gb ram, 64gb stor...   oppo   \n",
      "20018  oppo a3x 5g (starry purple, 4gb ram, 64gb stor...   oppo   \n",
      "20019  oppo a3x 5g (starry purple, 4gb ram, 64gb stor...   oppo   \n",
      "\n",
      "                                                 Reviews             Ratings  \\\n",
      "0      battery even though phone decent specs gaming ...  4.0 out of 5 stars   \n",
      "1      good product battery active use one day low us...  5.0 out of 5 stars   \n",
      "2      decent budget phone everyday usagehas heating ...  4.0 out of 5 stars   \n",
      "3      used month find genuine reviewi gaming user wa...  5.0 out of 5 stars   \n",
      "4      excellent phone camera awesomefast charging su...  5.0 out of 5 stars   \n",
      "...                                                  ...                 ...   \n",
      "20015  good product price point strong durable phone ...  5.0 out of 5 stars   \n",
      "20016  amazing awesome device price value moneydoes j...  5.0 out of 5 stars   \n",
      "20017  camera disappointed lot worst camera budget im...  1.0 out of 5 stars   \n",
      "20018  good phone price range battery backup lasts da...  5.0 out of 5 stars   \n",
      "20019  product purchaed wife good product fast chargi...  5.0 out of 5 stars   \n",
      "\n",
      "      Sentiment  \n",
      "0      Positive  \n",
      "1      Positive  \n",
      "2      Positive  \n",
      "3      Positive  \n",
      "4      Positive  \n",
      "...         ...  \n",
      "20015  Positive  \n",
      "20016  Positive  \n",
      "20017  Negative  \n",
      "20018  Positive  \n",
      "20019  Positive  \n",
      "\n",
      "[20020 rows x 5 columns]\n",
      "                                                 Reviews Sentiment\n",
      "0      battery even though phone decent specs gaming ...  Positive\n",
      "1      good product battery active use one day low us...  Positive\n",
      "2      decent budget phone everyday usagehas heating ...  Positive\n",
      "3      used month find genuine reviewi gaming user wa...  Positive\n",
      "4      excellent phone camera awesomefast charging su...  Positive\n",
      "...                                                  ...       ...\n",
      "20015  good product price point strong durable phone ...  Positive\n",
      "20016  amazing awesome device price value moneydoes j...  Positive\n",
      "20017  camera disappointed lot worst camera budget im...  Negative\n",
      "20018  good phone price range battery backup lasts da...  Positive\n",
      "20019  product purchaed wife good product fast chargi...  Positive\n",
      "\n",
      "[20020 rows x 2 columns]\n",
      "0        1\n",
      "1        1\n",
      "2        1\n",
      "3        1\n",
      "4        1\n",
      "        ..\n",
      "20015    1\n",
      "20016    1\n",
      "20017    0\n",
      "20018    1\n",
      "20019    1\n",
      "Name: Sentiment, Length: 20020, dtype: int64\n",
      "[[0 0 0 ... 0 0 0]\n",
      " [0 0 0 ... 0 0 0]\n",
      " [0 0 0 ... 0 0 0]]\n"
     ]
    }
   ],
   "source": [
    "data=pd.read_csv(r'C:\\Users\\sujay\\Desktop\\Chatbot\\CSVFiles\\sentiment.csv')\n",
    "print(data)\n",
    "data=data.drop('Unnamed: 0',axis=1)\n",
    "print(data)\n",
    "data=data[['Reviews','Sentiment']]\n",
    "print(data)\n",
    "x=data['Reviews']\n",
    "y=data['Sentiment']\n",
    "y=y.apply(lambda x: 1 if x=='Positive' else 0)\n",
    "print(y)\n",
    "x_train,x_test,y_train,y_test=train_test_split(x,y,test_size=0.4)\n",
    "vect=CountVectorizer()\n",
    "x_train_count=vect.fit_transform(x_train.values)\n",
    "print(x_train_count.toarray()[:3])"
   ]
  },
  {
   "cell_type": "code",
   "execution_count": 28,
   "metadata": {},
   "outputs": [
    {
     "name": "stdout",
     "output_type": "stream",
     "text": [
      "0.9005994005994006\n",
      "0.9379385622953376\n",
      "0.9687550330165888\n",
      "0.9090222155055161\n"
     ]
    }
   ],
   "source": [
    "model=MultinomialNB()\n",
    "model.fit(x_train_count,y_train)\n",
    "x_test_count=vect.transform(x_test)\n",
    "print(accuracy_score(y_test,model.predict(x_test_count)))\n",
    "print(f1_score(y_test,model.predict(x_test_count)))\n",
    "print(recall_score(y_test,model.predict(x_test_count)))\n",
    "print(precision_score(y_test,model.predict(x_test_count)))\n"
   ]
  },
  {
   "cell_type": "code",
   "execution_count": 29,
   "metadata": {},
   "outputs": [
    {
     "name": "stdout",
     "output_type": "stream",
     "text": [
      "0.9326923076923077\n",
      "0.9574753451676529\n",
      "0.9772910291512321\n",
      "0.9384472626043922\n"
     ]
    }
   ],
   "source": [
    "model=LogisticRegression()\n",
    "model.fit(x_train_count,y_train)\n",
    "x_test_count=vect.transform(x_test)\n",
    "print(accuracy_score(y_test,model.predict(x_test_count)))\n",
    "print(f1_score(y_test,model.predict(x_test_count)))\n",
    "print(recall_score(y_test,model.predict(x_test_count)))\n",
    "print(precision_score(y_test,model.predict(x_test_count)))"
   ]
  },
  {
   "cell_type": "code",
   "execution_count": 30,
   "metadata": {},
   "outputs": [
    {
     "name": "stdout",
     "output_type": "stream",
     "text": [
      "0.9440559440559441\n",
      "0.963911712582568\n",
      "0.9636012240296344\n",
      "0.9642224012892828\n"
     ]
    }
   ],
   "source": [
    "model=DecisionTreeClassifier()\n",
    "model.fit(x_train_count,y_train)\n",
    "x_test_count=vect.transform(x_test)\n",
    "print(accuracy_score(y_test,model.predict(x_test_count)))\n",
    "print(f1_score(y_test,model.predict(x_test_count)))\n",
    "print(recall_score(y_test,model.predict(x_test_count)))\n",
    "print(precision_score(y_test,model.predict(x_test_count)))"
   ]
  },
  {
   "cell_type": "code",
   "execution_count": 31,
   "metadata": {},
   "outputs": [
    {
     "name": "stdout",
     "output_type": "stream",
     "text": [
      "0.958041958041958\n",
      "0.9733290998571201\n",
      "0.9874375905942986\n",
      "0.9596180935983722\n"
     ]
    }
   ],
   "source": [
    "model=RandomForestClassifier()\n",
    "model.fit(x_train_count,y_train)\n",
    "x_test_count=vect.transform(x_test)\n",
    "print(accuracy_score(y_test,model.predict(x_test_count)))\n",
    "print(f1_score(y_test,model.predict(x_test_count)))\n",
    "print(recall_score(y_test,model.predict(x_test_count)))\n",
    "print(precision_score(y_test,model.predict(x_test_count)))"
   ]
  },
  {
   "cell_type": "code",
   "execution_count": 32,
   "metadata": {},
   "outputs": [
    {
     "name": "stdout",
     "output_type": "stream",
     "text": [
      "0.8783716283716284\n",
      "0.9246363354998453\n",
      "0.9623127717828958\n",
      "0.8897989575577067\n"
     ]
    }
   ],
   "source": [
    "model=KNeighborsClassifier()\n",
    "model.fit(x_train_count,y_train)\n",
    "x_test_count=vect.transform(x_test)\n",
    "print(accuracy_score(y_test,model.predict(x_test_count)))\n",
    "print(f1_score(y_test,model.predict(x_test_count)))\n",
    "print(recall_score(y_test,model.predict(x_test_count)))\n",
    "print(precision_score(y_test,model.predict(x_test_count)))"
   ]
  },
  {
   "cell_type": "code",
   "execution_count": 33,
   "metadata": {},
   "outputs": [
    {
     "name": "stdout",
     "output_type": "stream",
     "text": [
      "0.919955044955045\n",
      "0.9503524126713655\n",
      "0.9880818167176679\n",
      "0.9153983885407341\n"
     ]
    }
   ],
   "source": [
    "model=SVC()\n",
    "model.fit(x_train_count,y_train)\n",
    "x_test_count=vect.transform(x_test)\n",
    "print(accuracy_score(y_test,model.predict(x_test_count)))\n",
    "print(f1_score(y_test,model.predict(x_test_count)))\n",
    "print(recall_score(y_test,model.predict(x_test_count)))\n",
    "print(precision_score(y_test,model.predict(x_test_count)))\n"
   ]
  },
  {
   "cell_type": "code",
   "execution_count": 34,
   "metadata": {},
   "outputs": [
    {
     "name": "stdout",
     "output_type": "stream",
     "text": [
      "       Unnamed: 0                                      Product_Title  Brand  \\\n",
      "0               0  redmi note 13 pro (arctic white, 8gb ram, 128g...  redmi   \n",
      "1               1  redmi note 13 pro (arctic white, 8gb ram, 128g...  redmi   \n",
      "2               2  redmi note 13 pro (arctic white, 8gb ram, 128g...  redmi   \n",
      "3               3  redmi note 13 pro (arctic white, 8gb ram, 128g...  redmi   \n",
      "4               4  redmi note 13 pro (arctic white, 8gb ram, 128g...  redmi   \n",
      "...           ...                                                ...    ...   \n",
      "20015       20015  oppo a3x 5g (starry purple, 4gb ram, 64gb stor...   oppo   \n",
      "20016       20016  oppo a3x 5g (starry purple, 4gb ram, 64gb stor...   oppo   \n",
      "20017       20017  oppo a3x 5g (starry purple, 4gb ram, 64gb stor...   oppo   \n",
      "20018       20018  oppo a3x 5g (starry purple, 4gb ram, 64gb stor...   oppo   \n",
      "20019       20019  oppo a3x 5g (starry purple, 4gb ram, 64gb stor...   oppo   \n",
      "\n",
      "                                                 Reviews             Ratings  \\\n",
      "0      battery even though phone decent specs gaming ...  4.0 out of 5 stars   \n",
      "1      good product battery active use one day low us...  5.0 out of 5 stars   \n",
      "2      decent budget phone everyday usagehas heating ...  4.0 out of 5 stars   \n",
      "3      used month find genuine reviewi gaming user wa...  5.0 out of 5 stars   \n",
      "4      excellent phone camera awesomefast charging su...  5.0 out of 5 stars   \n",
      "...                                                  ...                 ...   \n",
      "20015  good product price point strong durable phone ...  5.0 out of 5 stars   \n",
      "20016  amazing awesome device price value moneydoes j...  5.0 out of 5 stars   \n",
      "20017  camera disappointed lot worst camera budget im...  1.0 out of 5 stars   \n",
      "20018  good phone price range battery backup lasts da...  5.0 out of 5 stars   \n",
      "20019  product purchaed wife good product fast chargi...  5.0 out of 5 stars   \n",
      "\n",
      "      Sentiment  \n",
      "0      Positive  \n",
      "1      Positive  \n",
      "2      Positive  \n",
      "3      Positive  \n",
      "4      Positive  \n",
      "...         ...  \n",
      "20015  Positive  \n",
      "20016  Positive  \n",
      "20017  Negative  \n",
      "20018  Positive  \n",
      "20019  Positive  \n",
      "\n",
      "[20020 rows x 6 columns]\n",
      "                                           Product_Title  Brand  \\\n",
      "0      redmi note 13 pro (arctic white, 8gb ram, 128g...  redmi   \n",
      "1      redmi note 13 pro (arctic white, 8gb ram, 128g...  redmi   \n",
      "2      redmi note 13 pro (arctic white, 8gb ram, 128g...  redmi   \n",
      "3      redmi note 13 pro (arctic white, 8gb ram, 128g...  redmi   \n",
      "4      redmi note 13 pro (arctic white, 8gb ram, 128g...  redmi   \n",
      "...                                                  ...    ...   \n",
      "20015  oppo a3x 5g (starry purple, 4gb ram, 64gb stor...   oppo   \n",
      "20016  oppo a3x 5g (starry purple, 4gb ram, 64gb stor...   oppo   \n",
      "20017  oppo a3x 5g (starry purple, 4gb ram, 64gb stor...   oppo   \n",
      "20018  oppo a3x 5g (starry purple, 4gb ram, 64gb stor...   oppo   \n",
      "20019  oppo a3x 5g (starry purple, 4gb ram, 64gb stor...   oppo   \n",
      "\n",
      "                                                 Reviews             Ratings  \\\n",
      "0      battery even though phone decent specs gaming ...  4.0 out of 5 stars   \n",
      "1      good product battery active use one day low us...  5.0 out of 5 stars   \n",
      "2      decent budget phone everyday usagehas heating ...  4.0 out of 5 stars   \n",
      "3      used month find genuine reviewi gaming user wa...  5.0 out of 5 stars   \n",
      "4      excellent phone camera awesomefast charging su...  5.0 out of 5 stars   \n",
      "...                                                  ...                 ...   \n",
      "20015  good product price point strong durable phone ...  5.0 out of 5 stars   \n",
      "20016  amazing awesome device price value moneydoes j...  5.0 out of 5 stars   \n",
      "20017  camera disappointed lot worst camera budget im...  1.0 out of 5 stars   \n",
      "20018  good phone price range battery backup lasts da...  5.0 out of 5 stars   \n",
      "20019  product purchaed wife good product fast chargi...  5.0 out of 5 stars   \n",
      "\n",
      "      Sentiment  \n",
      "0      Positive  \n",
      "1      Positive  \n",
      "2      Positive  \n",
      "3      Positive  \n",
      "4      Positive  \n",
      "...         ...  \n",
      "20015  Positive  \n",
      "20016  Positive  \n",
      "20017  Negative  \n",
      "20018  Positive  \n",
      "20019  Positive  \n",
      "\n",
      "[20020 rows x 5 columns]\n",
      "                                                 Reviews Sentiment\n",
      "0      battery even though phone decent specs gaming ...  Positive\n",
      "1      good product battery active use one day low us...  Positive\n",
      "2      decent budget phone everyday usagehas heating ...  Positive\n",
      "3      used month find genuine reviewi gaming user wa...  Positive\n",
      "4      excellent phone camera awesomefast charging su...  Positive\n",
      "...                                                  ...       ...\n",
      "20015  good product price point strong durable phone ...  Positive\n",
      "20016  amazing awesome device price value moneydoes j...  Positive\n",
      "20017  camera disappointed lot worst camera budget im...  Negative\n",
      "20018  good phone price range battery backup lasts da...  Positive\n",
      "20019  product purchaed wife good product fast chargi...  Positive\n",
      "\n",
      "[20020 rows x 2 columns]\n",
      "0        1\n",
      "1        1\n",
      "2        1\n",
      "3        1\n",
      "4        1\n",
      "        ..\n",
      "20015    1\n",
      "20016    1\n",
      "20017    0\n",
      "20018    1\n",
      "20019    1\n",
      "Name: Sentiment, Length: 20020, dtype: int64\n",
      "[[0 0 0 ... 0 0 0]\n",
      " [0 0 0 ... 0 0 0]\n",
      " [0 0 0 ... 0 0 0]]\n"
     ]
    }
   ],
   "source": [
    "data=pd.read_csv(r'C:\\Users\\sujay\\Desktop\\Chatbot\\CSVFiles\\sentiment.csv')\n",
    "print(data)\n",
    "data=data.drop('Unnamed: 0',axis=1)\n",
    "print(data)\n",
    "data=data[['Reviews','Sentiment']]\n",
    "print(data)\n",
    "x=data['Reviews']\n",
    "y=data['Sentiment']\n",
    "y=y.apply(lambda x: 1 if x=='Positive' else 0)\n",
    "print(y)\n",
    "x_train,x_test,y_train,y_test=train_test_split(x,y,test_size=0.25)\n",
    "vect=CountVectorizer()\n",
    "x_train_count=vect.fit_transform(x_train.values)\n",
    "print(x_train_count.toarray()[:3])"
   ]
  },
  {
   "cell_type": "code",
   "execution_count": 35,
   "metadata": {},
   "outputs": [
    {
     "name": "stdout",
     "output_type": "stream",
     "text": [
      "0.8945054945054945\n",
      "0.9342301943198804\n",
      "0.9642581640524557\n",
      "0.9060159458806475\n"
     ]
    }
   ],
   "source": [
    "model=MultinomialNB()\n",
    "model.fit(x_train_count,y_train)\n",
    "x_test_count=vect.transform(x_test)\n",
    "print(accuracy_score(y_test,model.predict(x_test_count)))\n",
    "print(f1_score(y_test,model.predict(x_test_count)))\n",
    "print(recall_score(y_test,model.predict(x_test_count)))\n",
    "print(precision_score(y_test,model.predict(x_test_count)))"
   ]
  },
  {
   "cell_type": "code",
   "execution_count": 36,
   "metadata": {},
   "outputs": [
    {
     "name": "stdout",
     "output_type": "stream",
     "text": [
      "0.9364635364635364\n",
      "0.959929435483871\n",
      "0.9794291591668809\n",
      "0.9411910056832221\n"
     ]
    }
   ],
   "source": [
    "model=LogisticRegression()\n",
    "model.fit(x_train_count,y_train)\n",
    "x_test_count=vect.transform(x_test)\n",
    "print(accuracy_score(y_test,model.predict(x_test_count)))\n",
    "print(f1_score(y_test,model.predict(x_test_count)))\n",
    "print(recall_score(y_test,model.predict(x_test_count)))\n",
    "print(precision_score(y_test,model.predict(x_test_count)))"
   ]
  },
  {
   "cell_type": "code",
   "execution_count": 37,
   "metadata": {},
   "outputs": [
    {
     "name": "stdout",
     "output_type": "stream",
     "text": [
      "0.9448551448551449\n",
      "0.9645790554414785\n",
      "0.9663152481357675\n",
      "0.9628490904432487\n"
     ]
    }
   ],
   "source": [
    "model=DecisionTreeClassifier()\n",
    "model.fit(x_train_count,y_train)\n",
    "x_test_count=vect.transform(x_test)\n",
    "print(accuracy_score(y_test,model.predict(x_test_count)))\n",
    "print(f1_score(y_test,model.predict(x_test_count)))\n",
    "print(recall_score(y_test,model.predict(x_test_count)))\n",
    "print(precision_score(y_test,model.predict(x_test_count)))"
   ]
  },
  {
   "cell_type": "code",
   "execution_count": 38,
   "metadata": {},
   "outputs": [
    {
     "name": "stdout",
     "output_type": "stream",
     "text": [
      "0.9634365634365635\n",
      "0.9767972613160898\n",
      "0.9904859861146824\n",
      "0.9634817408704353\n"
     ]
    }
   ],
   "source": [
    "model=RandomForestClassifier()\n",
    "model.fit(x_train_count,y_train)\n",
    "x_test_count=vect.transform(x_test)\n",
    "print(accuracy_score(y_test,model.predict(x_test_count)))\n",
    "print(f1_score(y_test,model.predict(x_test_count)))\n",
    "print(recall_score(y_test,model.predict(x_test_count)))\n",
    "print(precision_score(y_test,model.predict(x_test_count)))\n"
   ]
  },
  {
   "cell_type": "code",
   "execution_count": 39,
   "metadata": {},
   "outputs": [
    {
     "name": "stdout",
     "output_type": "stream",
     "text": [
      "0.8959040959040959\n",
      "0.935190944147282\n",
      "0.9665723836461816\n",
      "0.9057831325301204\n"
     ]
    }
   ],
   "source": [
    "model=KNeighborsClassifier()\n",
    "model.fit(x_train_count,y_train)\n",
    "x_test_count=vect.transform(x_test)\n",
    "print(accuracy_score(y_test,model.predict(x_test_count)))\n",
    "print(f1_score(y_test,model.predict(x_test_count)))\n",
    "print(recall_score(y_test,model.predict(x_test_count)))\n",
    "print(precision_score(y_test,model.predict(x_test_count)))"
   ]
  },
  {
   "cell_type": "code",
   "execution_count": 40,
   "metadata": {},
   "outputs": [
    {
     "name": "stdout",
     "output_type": "stream",
     "text": [
      "0.9244755244755245\n",
      "0.9530667991060343\n",
      "0.9868860889688866\n",
      "0.9214885954381753\n"
     ]
    }
   ],
   "source": [
    "model=SVC()\n",
    "model.fit(x_train_count,y_train)\n",
    "x_test_count=vect.transform(x_test)\n",
    "print(accuracy_score(y_test,model.predict(x_test_count)))\n",
    "print(f1_score(y_test,model.predict(x_test_count)))\n",
    "print(recall_score(y_test,model.predict(x_test_count)))\n",
    "print(precision_score(y_test,model.predict(x_test_count)))"
   ]
  }
 ],
 "metadata": {
  "kernelspec": {
   "display_name": "Python 3",
   "language": "python",
   "name": "python3"
  },
  "language_info": {
   "codemirror_mode": {
    "name": "ipython",
    "version": 3
   },
   "file_extension": ".py",
   "mimetype": "text/x-python",
   "name": "python",
   "nbconvert_exporter": "python",
   "pygments_lexer": "ipython3",
   "version": "3.12.5"
  }
 },
 "nbformat": 4,
 "nbformat_minor": 2
}
